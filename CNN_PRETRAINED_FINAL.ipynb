{
 "cells": [
  {
   "cell_type": "code",
   "execution_count": 1,
   "id": "1036e510",
   "metadata": {},
   "outputs": [],
   "source": [
    "import os\n",
    "import tensorflow as tf\n",
    "from tensorflow.keras.preprocessing.image import ImageDataGenerator\n",
    "from tensorflow.keras.applications.mobilenet import MobileNet, preprocess_input"
   ]
  },
  {
   "cell_type": "code",
   "execution_count": 2,
   "id": "c2fe2fb9",
   "metadata": {},
   "outputs": [],
   "source": [
    "base_dir = r\"C:\\Users\\18138\\Desktop\\data anly\\Training Image sp 23\""
   ]
  },
  {
   "cell_type": "code",
   "execution_count": 3,
   "id": "d107f464",
   "metadata": {},
   "outputs": [],
   "source": [
    "subdirs = os.listdir(base_dir)\n",
    "class_names = sorted(subdirs)\n",
    "img_size = (224, 224)\n",
    "batch_size = 32"
   ]
  },
  {
   "cell_type": "code",
   "execution_count": 4,
   "id": "7c4dc775",
   "metadata": {},
   "outputs": [
    {
     "name": "stdout",
     "output_type": "stream",
     "text": [
      "Found 1659 images belonging to 16 classes.\n",
      "Found 179 images belonging to 16 classes.\n"
     ]
    }
   ],
   "source": [
    "train_datagen = ImageDataGenerator(\n",
    "    preprocessing_function=preprocess_input,\n",
    "    shear_range=0.2,\n",
    "    zoom_range=0.2,\n",
    "    horizontal_flip=True,\n",
    "    validation_split=0.1)\n",
    "\n",
    "train_generator = train_datagen.flow_from_directory(\n",
    "    base_dir,\n",
    "    target_size=img_size,\n",
    "    batch_size=batch_size,\n",
    "    classes=class_names,\n",
    "    class_mode='categorical',\n",
    "    subset='training')\n",
    "\n",
    "valid_generator = train_datagen.flow_from_directory(\n",
    "    base_dir,\n",
    "    target_size=img_size,\n",
    "    batch_size=batch_size,\n",
    "    classes=class_names,\n",
    "    class_mode='categorical',\n",
    "    subset='validation')"
   ]
  },
  {
   "cell_type": "code",
   "execution_count": 5,
   "id": "23ea8672",
   "metadata": {},
   "outputs": [],
   "source": [
    "# Load the pre-trained MobileNet model\n",
    "base_model = MobileNet(input_shape=(224, 224, 3), include_top=False, weights='imagenet')\n",
    "\n",
    "# Freeze the layers in the base model\n",
    "for layer in base_model.layers:\n",
    "    layer.trainable = False\n",
    "\n",
    "# Add new layers on top of the base model\n",
    "x = base_model.output\n",
    "x = tf.keras.layers.GlobalAveragePooling2D()(x)\n",
    "x = tf.keras.layers.Dense(256, activation='relu')(x)\n",
    "x = tf.keras.layers.Dropout(0.5)(x)\n",
    "x = tf.keras.layers.Dense(16, activation='softmax')(x)\n",
    "\n",
    "# Create the new model\n",
    "model = tf.keras.models.Model(inputs=base_model.input, outputs=x)\n"
   ]
  },
  {
   "cell_type": "code",
   "execution_count": 6,
   "id": "b36ed1e2",
   "metadata": {},
   "outputs": [
    {
     "name": "stdout",
     "output_type": "stream",
     "text": [
      "Epoch 1/10\n",
      "52/52 [==============================] - 40s 752ms/step - loss: 1.4514 - accuracy: 0.5624 - val_loss: 0.2783 - val_accuracy: 0.9050\n",
      "Epoch 2/10\n",
      "52/52 [==============================] - 39s 741ms/step - loss: 0.4175 - accuracy: 0.8662 - val_loss: 0.1994 - val_accuracy: 0.9274\n",
      "Epoch 3/10\n",
      "52/52 [==============================] - 38s 736ms/step - loss: 0.2920 - accuracy: 0.9030 - val_loss: 0.1617 - val_accuracy: 0.9553\n",
      "Epoch 4/10\n",
      "52/52 [==============================] - 38s 730ms/step - loss: 0.2398 - accuracy: 0.9241 - val_loss: 0.1623 - val_accuracy: 0.9441\n",
      "Epoch 5/10\n",
      "52/52 [==============================] - 38s 736ms/step - loss: 0.1723 - accuracy: 0.9433 - val_loss: 0.1534 - val_accuracy: 0.9274\n",
      "Epoch 6/10\n",
      "52/52 [==============================] - 38s 738ms/step - loss: 0.1420 - accuracy: 0.9536 - val_loss: 0.1402 - val_accuracy: 0.9497\n",
      "Epoch 7/10\n",
      "52/52 [==============================] - 38s 738ms/step - loss: 0.1179 - accuracy: 0.9626 - val_loss: 0.1473 - val_accuracy: 0.9441\n",
      "Epoch 8/10\n",
      "52/52 [==============================] - 39s 740ms/step - loss: 0.1181 - accuracy: 0.9584 - val_loss: 0.1240 - val_accuracy: 0.9553\n",
      "Epoch 9/10\n",
      "52/52 [==============================] - 38s 732ms/step - loss: 0.1116 - accuracy: 0.9614 - val_loss: 0.1436 - val_accuracy: 0.9553\n",
      "Epoch 10/10\n",
      "52/52 [==============================] - 38s 738ms/step - loss: 0.0649 - accuracy: 0.9807 - val_loss: 0.1751 - val_accuracy: 0.9218\n"
     ]
    }
   ],
   "source": [
    "# Compile the model\n",
    "model.compile(optimizer='adam',\n",
    "              loss='categorical_crossentropy',\n",
    "              metrics=['accuracy'])\n",
    "\n",
    "# Train the model\n",
    "history = model.fit(train_generator,\n",
    "                    validation_data=valid_generator,\n",
    "                    epochs=10)\n"
   ]
  },
  {
   "cell_type": "code",
   "execution_count": 7,
   "id": "85f49ffc",
   "metadata": {},
   "outputs": [
    {
     "name": "stdout",
     "output_type": "stream",
     "text": [
      "6/6 [==============================] - 4s 600ms/step - loss: 0.1389 - accuracy: 0.9553\n",
      "Validation Accuracy: 0.9553072452545166\n"
     ]
    }
   ],
   "source": [
    "loss, accuracy = model.evaluate(valid_generator)\n",
    "\n",
    "# Print the validation accuracy\n",
    "print('Validation Accuracy:', accuracy)\n"
   ]
  },
  {
   "cell_type": "code",
   "execution_count": null,
   "id": "f193b512",
   "metadata": {},
   "outputs": [],
   "source": [
    "\n"
   ]
  },
  {
   "cell_type": "code",
   "execution_count": 9,
   "id": "9729509c",
   "metadata": {},
   "outputs": [],
   "source": [
    "test_dir = r\"C:\\Users\\18138\\Desktop\\data anly\\Test Image sp 23\"\n"
   ]
  },
  {
   "cell_type": "code",
   "execution_count": 10,
   "id": "2957610d",
   "metadata": {},
   "outputs": [
    {
     "data": {
      "image/png": "[encoded data removed]",
      "text/plain": [
       "<Figure size 640x480 with 1 Axes>"
      ]
     },
     "metadata": {},
     "output_type": "display_data"
    },
    {
     "data": {
      "image/png": "[encoded data removed]",
      "text/plain": [
       "<Figure size 640x480 with 1 Axes>"
      ]
     },
     "metadata": {},
     "output_type": "display_data"
    }
   ],
   "source": [
    "import matplotlib.pyplot as plt\n",
    "\n",
    "# Plot the normal and validation loss\n",
    "plt.plot(history.history['loss'], label='train')\n",
    "plt.plot(history.history['val_loss'], label='validation')\n",
    "plt.title('Model Loss')\n",
    "plt.xlabel('Epoch')\n",
    "plt.ylabel('Loss')\n",
    "plt.legend()\n",
    "plt.show()\n",
    "\n",
    "# Plot the normal and validation accuracy\n",
    "plt.plot(history.history['accuracy'], label='train')\n",
    "plt.plot(history.history['val_accuracy'], label='validation')\n",
    "plt.title('Model Accuracy')\n",
    "plt.xlabel('Epoch')\n",
    "plt.ylabel('Accuracy')\n",
    "plt.legend()\n",
    "plt.show()\n"
   ]
  },
  {
   "cell_type": "code",
   "execution_count": 11,
   "id": "5f5a9520",
   "metadata": {},
   "outputs": [
    {
     "name": "stdout",
     "output_type": "stream",
     "text": [
      "0\n",
      "Adult\n",
      "1\n",
      "Airplane\n",
      "2\n",
      "Alpaca\n",
      "3\n",
      "Bird\n",
      "4\n",
      "Bus\n",
      "5\n",
      "Car\n",
      "6\n",
      "Cat\n",
      "7\n",
      "Child\n",
      "8\n",
      "Elephant\n",
      "9\n",
      "Flower\n",
      "10\n",
      "Giraffe\n",
      "11\n",
      "Horse\n",
      "12\n",
      "Monkey\n",
      "13\n",
      "Panda\n",
      "14\n",
      "Reptile\n",
      "15\n",
      "Vessel\n"
     ]
    }
   ],
   "source": [
    "import cv2\n",
    "#print(\"---------------------TEST_DATA_READING OF DATA --------------------\")\n",
    "\n",
    "test_clsname = [name for name in os.listdir(test_dir) if os.path.isdir(os.path.join(test_dir, name))]\n",
    "#print(\"---------------------CLASSES --------------------\")\n",
    "#print(f\"CLASSES LIST: {test_clsname}\")\n",
    "#print(\"---------------------LENGTH OF CLASSES --------------------\")\n",
    "#print(len(test_clsname))\n",
    "img_size = 224\n",
    "test_data = [] \n",
    "label = 0\n",
    "while label < len(test_clsname):\n",
    "    category = test_clsname[label]\n",
    "    print(label)\n",
    "    print(category)\n",
    "    #print(\"---------------------CATEG,LABL --------------------\")\n",
    "    #print(f\"CATEGORY:LABELS= {category,label}\")\n",
    "    path = os.path.join(test_dir, category)\n",
    "    img_name_index = 0\n",
    "    while img_name_index < len(os.listdir(path)):\n",
    "        img_name = os.listdir(path)[img_name_index]\n",
    "        img_path = os.path.join(path, img_name)\n",
    "        #print(img_name)\n",
    "        if img_name.lower().endswith(('.jpg', '.jpeg', '.png', '.gif')):\n",
    "            img_arr = cv2.imread(img_path, cv2.IMREAD_COLOR)\n",
    "            img_arr = cv2.resize(img_arr, (img_size, img_size))\n",
    "            #print(img_name)\n",
    "            test_data.append([img_arr, label,img_name])\n",
    "            #plt.imshow(img_arr)\n",
    "            #plt.show()\n",
    "            #print(img_name)\n",
    "        img_name_index += 1\n",
    "    label += 1"
   ]
  },
  {
   "cell_type": "code",
   "execution_count": 12,
   "id": "a41d4cfc",
   "metadata": {},
   "outputs": [
    {
     "name": "stdout",
     "output_type": "stream",
     "text": [
      "Found 480 images belonging to 16 classes.\n"
     ]
    }
   ],
   "source": [
    "test_image_generator = ImageDataGenerator(rescale=1./255)\n",
    "test_data_gen = test_image_generator.flow_from_directory(\n",
    "    batch_size=32,\n",
    "    directory=test_dir,\n",
    "    shuffle=False,\n",
    "    target_size=(224,224),\n",
    "    class_mode='categorical'\n",
    ")"
   ]
  },
  {
   "cell_type": "code",
   "execution_count": 13,
   "id": "4620b1d2",
   "metadata": {},
   "outputs": [
    {
     "name": "stdout",
     "output_type": "stream",
     "text": [
      "15/15 [==============================] - 7s 443ms/step - loss: 0.1691 - accuracy: 0.9458\n",
      "Test Accuracy: 0.9458333253860474\n"
     ]
    }
   ],
   "source": [
    "loss, accuracy = model.evaluate(test_data_gen)\n",
    "\n",
    "# Print the test accuracy\n",
    "print('Test Accuracy:', accuracy)"
   ]
  },
  {
   "cell_type": "code",
   "execution_count": 14,
   "id": "03494596",
   "metadata": {},
   "outputs": [
    {
     "name": "stdout",
     "output_type": "stream",
     "text": [
      "15/15 [==============================] - 7s 443ms/step\n"
     ]
    },
    {
     "data": {
      "text/plain": [
       "array([ 0,  0,  7,  0,  0,  7,  7,  0,  0,  0,  7,  0,  0,  7,  7,  7,  0,\n",
       "        0,  7,  0,  0,  0,  7,  7,  7,  0,  0,  0,  0,  0,  1,  1,  1,  1,\n",
       "        1,  1,  1,  1,  1,  1,  1,  1,  1,  1,  1,  1,  1,  1,  1,  1,  1,\n",
       "        1,  1,  1,  1,  1,  1,  1,  1,  1,  2,  2,  2,  2,  2,  2,  2,  2,\n",
       "        2,  2,  2,  2,  2,  2,  2,  2,  2,  2,  2,  2,  2,  2,  2,  2,  2,\n",
       "        2,  2,  2,  2,  2,  3,  3,  3,  3,  3,  3,  3,  3,  3,  3,  3,  3,\n",
       "        3,  3,  3,  3,  3,  3,  3,  3,  3,  3,  3,  3,  3,  3,  3,  3,  3,\n",
       "        3,  4,  4,  4,  4,  4,  4,  4,  4,  4,  4,  4,  4,  4,  4,  4,  4,\n",
       "        4,  4,  4,  4,  4,  4,  4,  4,  4,  4,  4,  4,  4,  4,  5,  5,  5,\n",
       "        5,  5,  5,  5,  5,  5,  5,  5,  5,  5,  5,  5,  5,  5,  5,  5,  5,\n",
       "        5,  5,  5,  5,  5,  5,  5,  5,  5,  5,  6,  6,  6,  6,  3,  6,  6,\n",
       "        6,  6,  6,  6,  6,  6,  6,  6,  6,  6,  6,  7,  6,  6,  6,  6,  6,\n",
       "        6,  6,  7,  6,  6,  6,  7,  7,  7,  7,  7,  7,  7,  7,  7,  7,  7,\n",
       "        7,  7,  7,  7,  7,  7,  7,  7,  7,  7,  7,  7,  0,  7,  7,  7,  7,\n",
       "        7,  7,  8,  8,  8,  8,  8,  8,  8,  8,  8,  8,  8,  8,  8,  8,  8,\n",
       "        8,  8,  8,  8,  8,  8,  8,  8,  8,  8,  8,  8,  8,  8,  8,  9,  9,\n",
       "        9,  9,  9,  9,  9,  9,  9,  9,  9,  9,  9,  9,  9,  9,  9,  9,  9,\n",
       "        9,  9,  9,  9,  9,  9,  9,  9,  9,  9, 14, 10, 10, 10, 10, 10, 10,\n",
       "       10, 10,  2, 10, 10, 10, 10, 10, 10, 10, 10, 10, 10, 10,  1, 10, 10,\n",
       "        2, 10, 10, 10, 10, 10,  2, 11, 11, 11, 11, 11, 11, 11, 11, 11, 11,\n",
       "       11, 11, 11, 11, 11, 11,  5, 15,  8, 11, 11,  2, 11, 11, 11, 11, 11,\n",
       "       11, 11, 11, 12, 12, 12, 12, 12, 12, 12, 12, 12, 12, 12, 12, 12, 12,\n",
       "       12, 12, 12, 12, 12, 12,  2, 12, 12, 12, 12, 12, 12, 12, 12, 12, 13,\n",
       "       13, 13, 13, 13, 13, 13, 13, 13, 13, 13, 13, 13, 13, 13, 13, 13, 13,\n",
       "       13, 13, 13, 13, 13, 13, 13,  7, 13, 13, 13, 13, 14, 14, 14, 14, 14,\n",
       "       14, 14, 14, 14, 14, 14, 14, 14, 14, 14, 14, 14, 14, 14, 14, 14, 14,\n",
       "       14, 14, 14, 14, 14, 14, 14, 14, 15, 15, 15, 15, 15, 15, 15, 15, 15,\n",
       "       15, 15, 15, 15, 15, 15, 15, 15, 15, 15, 15, 15, 15, 15, 15, 15, 15,\n",
       "       15, 15, 15, 15], dtype=int64)"
      ]
     },
     "execution_count": 14,
     "metadata": {},
     "output_type": "execute_result"
    }
   ],
   "source": [
    "import numpy as np\n",
    "\n",
    "# Make predictions on the test data\n",
    "predictions = model.predict(test_data_gen)\n",
    "\n",
    "# Convert the predicted probabilities to class labels\n",
    "predicted_labels = np.argmax(predictions, axis=1)\n",
    "\n",
    "predicted_labels"
   ]
  },
  {
   "cell_type": "code",
   "execution_count": 15,
   "id": "85f984af",
   "metadata": {},
   "outputs": [
    {
     "name": "stdout",
     "output_type": "stream",
     "text": [
      "[0, 0, 0, 0, 0, 0, 0, 0, 0, 0, 0, 0, 0, 0, 0, 0, 0, 0, 0, 0, 0, 0, 0, 0, 0, 0, 0, 0, 0, 0, 1, 1, 1, 1, 1, 1, 1, 1, 1, 1, 1, 1, 1, 1, 1, 1, 1, 1, 1, 1, 1, 1, 1, 1, 1, 1, 1, 1, 1, 1, 2, 2, 2, 2, 2, 2, 2, 2, 2, 2, 2, 2, 2, 2, 2, 2, 2, 2, 2, 2, 2, 2, 2, 2, 2, 2, 2, 2, 2, 2, 3, 3, 3, 3, 3, 3, 3, 3, 3, 3, 3, 3, 3, 3, 3, 3, 3, 3, 3, 3, 3, 3, 3, 3, 3, 3, 3, 3, 3, 3, 4, 4, 4, 4, 4, 4, 4, 4, 4, 4, 4, 4, 4, 4, 4, 4, 4, 4, 4, 4, 4, 4, 4, 4, 4, 4, 4, 4, 4, 4, 5, 5, 5, 5, 5, 5, 5, 5, 5, 5, 5, 5, 5, 5, 5, 5, 5, 5, 5, 5, 5, 5, 5, 5, 5, 5, 5, 5, 5, 5, 6, 6, 6, 6, 6, 6, 6, 6, 6, 6, 6, 6, 6, 6, 6, 6, 6, 6, 6, 6, 6, 6, 6, 6, 6, 6, 6, 6, 6, 6, 7, 7, 7, 7, 7, 7, 7, 7, 7, 7, 7, 7, 7, 7, 7, 7, 7, 7, 7, 7, 7, 7, 7, 7, 7, 7, 7, 7, 7, 7, 8, 8, 8, 8, 8, 8, 8, 8, 8, 8, 8, 8, 8, 8, 8, 8, 8, 8, 8, 8, 8, 8, 8, 8, 8, 8, 8, 8, 8, 8, 9, 9, 9, 9, 9, 9, 9, 9, 9, 9, 9, 9, 9, 9, 9, 9, 9, 9, 9, 9, 9, 9, 9, 9, 9, 9, 9, 9, 9, 9, 10, 10, 10, 10, 10, 10, 10, 10, 10, 10, 10, 10, 10, 10, 10, 10, 10, 10, 10, 10, 10, 10, 10, 10, 10, 10, 10, 10, 10, 10, 11, 11, 11, 11, 11, 11, 11, 11, 11, 11, 11, 11, 11, 11, 11, 11, 11, 11, 11, 11, 11, 11, 11, 11, 11, 11, 11, 11, 11, 11, 12, 12, 12, 12, 12, 12, 12, 12, 12, 12, 12, 12, 12, 12, 12, 12, 12, 12, 12, 12, 12, 12, 12, 12, 12, 12, 12, 12, 12, 12, 13, 13, 13, 13, 13, 13, 13, 13, 13, 13, 13, 13, 13, 13, 13, 13, 13, 13, 13, 13, 13, 13, 13, 13, 13, 13, 13, 13, 13, 13, 14, 14, 14, 14, 14, 14, 14, 14, 14, 14, 14, 14, 14, 14, 14, 14, 14, 14, 14, 14, 14, 14, 14, 14, 14, 14, 14, 14, 14, 14, 15, 15, 15, 15, 15, 15, 15, 15, 15, 15, 15, 15, 15, 15, 15, 15, 15, 15, 15, 15, 15, 15, 15, 15, 15, 15, 15, 15, 15, 15]\n"
     ]
    }
   ],
   "source": [
    "test_labels=[i[1] for i in test_data]\n",
    "print(test_labels)"
   ]
  },
  {
   "cell_type": "code",
   "execution_count": 16,
   "id": "7ef9bc18",
   "metadata": {},
   "outputs": [
    {
     "name": "stdout",
     "output_type": "stream",
     "text": [
      "['test_adult (1).jpg', 'test_adult (10).jpg', 'test_adult (11).jpg', 'test_adult (12).jpg', 'test_adult (13).jpg', 'test_adult (14).jpg', 'test_adult (15).jpg', 'test_adult (16).jpg', 'test_adult (17).jpg', 'test_adult (18).jpg', 'test_adult (19).jpg', 'test_adult (2).jpg', 'test_adult (20).jpg', 'test_adult (21).jpg', 'test_adult (22).jpg', 'test_adult (23).jpg', 'test_adult (24).jpg', 'test_adult (25).jpg', 'test_adult (26).jpg', 'test_adult (27).jpg', 'test_adult (28).jpg', 'test_adult (29).jpg', 'test_adult (3).jpg', 'test_adult (30).jpg', 'test_adult (4).jpg', 'test_adult (5).jpg', 'test_adult (6).jpg', 'test_adult (7).jpg', 'test_adult (8).jpg', 'test_adult (9).jpg', 'test_airplane (1).jpg', 'test_airplane (10).jpg', 'test_airplane (11).jpg', 'test_airplane (12).jpg', 'test_airplane (13).jpg', 'test_airplane (14).jpg', 'test_airplane (15).jpg', 'test_airplane (16).jpg', 'test_airplane (17).jpg', 'test_airplane (18).jpg', 'test_airplane (19).jpg', 'test_airplane (2).jpg', 'test_airplane (20).jpg', 'test_airplane (21).jpg', 'test_airplane (22).jpg', 'test_airplane (23).jpg', 'test_airplane (24).jpg', 'test_airplane (25).jpg', 'test_airplane (26).jpg', 'test_airplane (27).jpg', 'test_airplane (28).jpg', 'test_airplane (29).jpg', 'test_airplane (3).jpg', 'test_airplane (30).jpg', 'test_airplane (4).jpg', 'test_airplane (5).jpg', 'test_airplane (6).jpg', 'test_airplane (7).jpg', 'test_airplane (8).jpg', 'test_airplane (9).jpg', 'test_alpaca (1).jpg', 'test_alpaca (10).jpg', 'test_alpaca (11).jpg', 'test_alpaca (12).jpg', 'test_alpaca (13).jpg', 'test_alpaca (14).jpg', 'test_alpaca (15).jpg', 'test_alpaca (16).jpg', 'test_alpaca (17).jpg', 'test_alpaca (18).jpg', 'test_alpaca (19).jpg', 'test_alpaca (2).jpg', 'test_alpaca (20).jpg', 'test_alpaca (21).jpg', 'test_alpaca (22).jpg', 'test_alpaca (23).jpg', 'test_alpaca (24).jpg', 'test_alpaca (25).jpg', 'test_alpaca (26).jpg', 'test_alpaca (27).jpg', 'test_alpaca (28).jpg', 'test_alpaca (29).jpg', 'test_alpaca (3).jpg', 'test_alpaca (30).jpg', 'test_alpaca (4).jpg', 'test_alpaca (5).jpg', 'test_alpaca (6).jpg', 'test_alpaca (7).jpg', 'test_alpaca (8).jpg', 'test_alpaca (9).jpg', 'test_bird (1).jpg', 'test_bird (10).jpg', 'test_bird (11).jpg', 'test_bird (12).jpg', 'test_bird (13).jpg', 'test_bird (14).jpg', 'test_bird (15).jpg', 'test_bird (16).jpg', 'test_bird (17).jpg', 'test_bird (18).jpg', 'test_bird (19).jpg', 'test_bird (2).jpg', 'test_bird (20).jpg', 'test_bird (21).jpg', 'test_bird (22).jpg', 'test_bird (23).jpg', 'test_bird (24).jpg', 'test_bird (25).jpg', 'test_bird (26).jpg', 'test_bird (27).jpg', 'test_bird (28).jpg', 'test_bird (29).jpg', 'test_bird (3).jpg', 'test_bird (30).jpg', 'test_bird (4).jpg', 'test_bird (5).jpg', 'test_bird (6).jpg', 'test_bird (7).jpg', 'test_bird (8).jpg', 'test_bird (9).jpg', 'test_bus (1).jpg', 'test_bus (10).jpg', 'test_bus (11).jpg', 'test_bus (12).jpg', 'test_bus (13).jpg', 'test_bus (14).jpg', 'test_bus (15).jpg', 'test_bus (16).jpg', 'test_bus (17).jpg', 'test_bus (18).jpg', 'test_bus (19).jpg', 'test_bus (2).jpg', 'test_bus (20).jpg', 'test_bus (21).jpg', 'test_bus (22).jpg', 'test_bus (23).jpg', 'test_bus (24).jpg', 'test_bus (25).jpg', 'test_bus (26).jpg', 'test_bus (27).jpg', 'test_bus (28).jpg', 'test_bus (29).jpg', 'test_bus (3).jpg', 'test_bus (30).jpg', 'test_bus (4).jpg', 'test_bus (5).jpg', 'test_bus (6).jpg', 'test_bus (7).jpg', 'test_bus (8).jpg', 'test_bus (9).jpg', 'test_car (1).jpg', 'test_car (10).jpg', 'test_car (11).jpg', 'test_car (12).jpg', 'test_car (13).jpg', 'test_car (14).jpg', 'test_car (15).jpg', 'test_car (16).jpg', 'test_car (17).jpg', 'test_car (18).jpg', 'test_car (19).jpg', 'test_car (2).jpg', 'test_car (20).jpg', 'test_car (21).jpg', 'test_car (22).jpg', 'test_car (23).jpg', 'test_car (24).jpg', 'test_car (25).jpg', 'test_car (26).jpg', 'test_car (27).jpg', 'test_car (28).jpg', 'test_car (29).jpg', 'test_car (3).jpg', 'test_car (30).jpg', 'test_car (4).jpg', 'test_car (5).jpg', 'test_car (6).jpg', 'test_car (7).jpg', 'test_car (8).jpg', 'test_car (9).jpg', 'test_cat (1).jpg', 'test_cat (10).jpg', 'test_cat (11).jpg', 'test_cat (12).jpg', 'test_cat (13).jpg', 'test_cat (14).jpg', 'test_cat (15).jpg', 'test_cat (16).jpg', 'test_cat (17).jpg', 'test_cat (18).jpg', 'test_cat (19).jpg', 'test_cat (2).jpg', 'test_cat (20).jpg', 'test_cat (21).jpg', 'test_cat (22).jpg', 'test_cat (23).jpg', 'test_cat (24).jpg', 'test_cat (25).jpg', 'test_cat (26).jpg', 'test_cat (27).jpg', 'test_cat (28).jpg', 'test_cat (29).jpg', 'test_cat (3).jpg', 'test_cat (30).jpg', 'test_cat (4).jpg', 'test_cat (5).jpg', 'test_cat (6).jpg', 'test_cat (7).jpg', 'test_cat (8).jpg', 'test_cat (9).jpg', 'test_child (1).jpg', 'test_child (10).jpg', 'test_child (11).jpg', 'test_child (12).jpg', 'test_child (13).jpg', 'test_child (14).jpg', 'test_child (15).jpg', 'test_child (16).jpg', 'test_child (17).jpg', 'test_child (18).jpg', 'test_child (19).jpg', 'test_child (2).jpg', 'test_child (20).jpg', 'test_child (21).jpg', 'test_child (22).jpg', 'test_child (23).jpg', 'test_child (24).jpg', 'test_child (25).jpg', 'test_child (26).jpg', 'test_child (27).jpg', 'test_child (28).jpg', 'test_child (29).jpg', 'test_child (3).jpg', 'test_child (30).jpg', 'test_child (4).jpg', 'test_child (5).jpg', 'test_child (6).jpg', 'test_child (7).jpg', 'test_child (8).jpg', 'test_child (9).jpg', 'test_elephant (1).jpg', 'test_elephant (10).jpg', 'test_elephant (11).jpg', 'test_elephant (12).jpg', 'test_elephant (13).jpg', 'test_elephant (14).jpg', 'test_elephant (15).jpg', 'test_elephant (16).jpg', 'test_elephant (17).jpg', 'test_elephant (18).jpg', 'test_elephant (19).jpg', 'test_elephant (2).jpg', 'test_elephant (20).jpg', 'test_elephant (21).jpg', 'test_elephant (22).jpg', 'test_elephant (23).jpg', 'test_elephant (24).jpg', 'test_elephant (25).jpg', 'test_elephant (26).jpg', 'test_elephant (27).jpg', 'test_elephant (28).jpg', 'test_elephant (29).jpg', 'test_elephant (3).jpg', 'test_elephant (30).jpg', 'test_elephant (4).jpg', 'test_elephant (5).jpg', 'test_elephant (6).jpg', 'test_elephant (7).jpg', 'test_elephant (8).jpg', 'test_elephant (9).jpg', 'test_flower (1).jpg', 'test_flower (10).jpg', 'test_flower (11).jpg', 'test_flower (12).jpg', 'test_flower (13).jpg', 'test_flower (14).jpg', 'test_flower (15).jpg', 'test_flower (16).jpg', 'test_flower (17).jpg', 'test_flower (18).jpg', 'test_flower (19).jpg', 'test_flower (2).jpg', 'test_flower (20).jpg', 'test_flower (21).jpg', 'test_flower (22).jpg', 'test_flower (23).jpg', 'test_flower (24).jpg', 'test_flower (25).jpg', 'test_flower (26).jpg', 'test_flower (27).jpg', 'test_flower (28).jpg', 'test_flower (29).jpg', 'test_flower (3).jpg', 'test_flower (30).jpg', 'test_flower (4).jpg', 'test_flower (5).jpg', 'test_flower (6).jpg', 'test_flower (7).jpg', 'test_flower (8).jpg', 'test_flower (9).jpg', 'test_giraffe (1).jpg', 'test_giraffe (10).jpg', 'test_giraffe (11).jpg', 'test_giraffe (12).jpg', 'test_giraffe (13).jpg', 'test_giraffe (14).jpg', 'test_giraffe (15).jpg', 'test_giraffe (16).jpg', 'test_giraffe (17).jpg', 'test_giraffe (18).jpg', 'test_giraffe (19).jpg', 'test_giraffe (2).jpg', 'test_giraffe (20).jpg', 'test_giraffe (21).jpg', 'test_giraffe (22).jpg', 'test_giraffe (23).jpg', 'test_giraffe (24).jpg', 'test_giraffe (25).jpg', 'test_giraffe (26).jpg', 'test_giraffe (27).jpg', 'test_giraffe (28).jpg', 'test_giraffe (29).jpg', 'test_giraffe (3).jpg', 'test_giraffe (30).jpg', 'test_giraffe (4).jpg', 'test_giraffe (5).jpg', 'test_giraffe (6).jpg', 'test_giraffe (7).jpg', 'test_giraffe (8).jpg', 'test_giraffe (9).jpg', 'test_horse (1).jpeg', 'test_horse (10).jpeg', 'test_horse (11).jpeg', 'test_horse (12).jpeg', 'test_horse (13).jpeg', 'test_horse (14).jpeg', 'test_horse (15).jpeg', 'test_horse (16).jpeg', 'test_horse (17).jpeg', 'test_horse (18).jpeg', 'test_horse (19).jpeg', 'test_horse (2).jpeg', 'test_horse (20).jpeg', 'test_horse (21).jpeg', 'test_horse (22).jpg', 'test_horse (23).jpg', 'test_horse (24).jpg', 'test_horse (25).jpg', 'test_horse (26).jpg', 'test_horse (27).jpg', 'test_horse (28).jpg', 'test_horse (29).jpg', 'test_horse (3).jpeg', 'test_horse (30).jpg', 'test_horse (4).jpeg', 'test_horse (5).jpeg', 'test_horse (6).jpeg', 'test_horse (7).jpeg', 'test_horse (8).jpeg', 'test_horse (9).jpeg', 'test_monkey (1).jpg', 'test_monkey (10).jpg', 'test_monkey (11).jpg', 'test_monkey (12).jpg', 'test_monkey (13).jpg', 'test_monkey (14).jpg', 'test_monkey (15).jpg', 'test_monkey (16).jpg', 'test_monkey (17).jpg', 'test_monkey (18).jpg', 'test_monkey (19).jpg', 'test_monkey (2).jpg', 'test_monkey (20).jpg', 'test_monkey (21).jpg', 'test_monkey (22).jpg', 'test_monkey (23).jpg', 'test_monkey (24).jpg', 'test_monkey (25).jpg', 'test_monkey (26).jpg', 'test_monkey (27).jpg', 'test_monkey (28).jpg', 'test_monkey (29).jpg', 'test_monkey (3).jpg', 'test_monkey (30).jpg', 'test_monkey (4).jpg', 'test_monkey (5).jpg', 'test_monkey (6).jpg', 'test_monkey (7).jpg', 'test_monkey (8).jpg', 'test_monkey (9).jpg', 'test_panda (1).jpg', 'test_panda (10).jpg', 'test_panda (11).jpg', 'test_panda (12).jpg', 'test_panda (13).jpg', 'test_panda (14).jpg', 'test_panda (15).jpg', 'test_panda (16).jpg', 'test_panda (17).jpg', 'test_panda (18).jpg', 'test_panda (19).jpg', 'test_panda (2).jpg', 'test_panda (20).jpg', 'test_panda (21).jpg', 'test_panda (22).jpg', 'test_panda (23).jpg', 'test_panda (24).jpg', 'test_panda (25).jpg', 'test_panda (26).jpg', 'test_panda (27).jpg', 'test_panda (28).jpg', 'test_panda (29).jpg', 'test_panda (3).jpg', 'test_panda (30).jpg', 'test_panda (4).jpg', 'test_panda (5).jpg', 'test_panda (6).jpg', 'test_panda (7).jpg', 'test_panda (8).jpg', 'test_panda (9).jpg', 'test_reptile (1).jpg', 'test_reptile (10).jpg', 'test_reptile (11).jpg', 'test_reptile (12).jpg', 'test_reptile (13).jpg', 'test_reptile (14).jpg', 'test_reptile (15).jpg', 'test_reptile (16).jpg', 'test_reptile (17).jpg', 'test_reptile (18).jpg', 'test_reptile (19).jpg', 'test_reptile (2).jpg', 'test_reptile (20).jpg', 'test_reptile (21).jpg', 'test_reptile (22).jpg', 'test_reptile (23).jpg', 'test_reptile (24).jpg', 'test_reptile (25).jpg', 'test_reptile (26).jpg', 'test_reptile (27).jpg', 'test_reptile (28).jpg', 'test_reptile (29).jpg', 'test_reptile (3).jpg', 'test_reptile (30).jpg', 'test_reptile (4).jpg', 'test_reptile (5).jpg', 'test_reptile (6).jpg', 'test_reptile (7).jpg', 'test_reptile (8).jpg', 'test_reptile (9).jpg', 'test_vessel (1).jpg', 'test_vessel (10).jpg', 'test_vessel (11).jpg', 'test_vessel (12).jpg', 'test_vessel (13).jpg', 'test_vessel (14).jpg', 'test_vessel (15).jpg', 'test_vessel (16).jpg', 'test_vessel (17).jpg', 'test_vessel (18).jpg', 'test_vessel (19).jpg', 'test_vessel (2).jpg', 'test_vessel (20).jpg', 'test_vessel (21).jpg', 'test_vessel (22).jpg', 'test_vessel (23).jpg', 'test_vessel (24).jpg', 'test_vessel (25).jpg', 'test_vessel (26).jpg', 'test_vessel (27).jpg', 'test_vessel (28).jpg', 'test_vessel (29).jpg', 'test_vessel (3).jpg', 'test_vessel (30).jpg', 'test_vessel (4).jpg', 'test_vessel (5).jpg', 'test_vessel (6).jpg', 'test_vessel (7).jpg', 'test_vessel (8).jpg', 'test_vessel (9).jpg']\n"
     ]
    }
   ],
   "source": [
    "test_imgname=[i[2] for i in test_data]\n",
    "print(test_imgname)"
   ]
  },
  {
   "cell_type": "code",
   "execution_count": 17,
   "id": "6d7bed2e",
   "metadata": {},
   "outputs": [
    {
     "name": "stdout",
     "output_type": "stream",
     "text": [
      "              precision    recall  f1-score   support\n",
      "\n",
      "           0       0.95      0.63      0.76        30\n",
      "           1       0.97      1.00      0.98        30\n",
      "           2       0.86      1.00      0.92        30\n",
      "           3       0.97      1.00      0.98        30\n",
      "           4       1.00      1.00      1.00        30\n",
      "           5       0.97      1.00      0.98        30\n",
      "           6       1.00      0.90      0.95        30\n",
      "           7       0.67      0.97      0.79        30\n",
      "           8       0.97      1.00      0.98        30\n",
      "           9       1.00      0.97      0.98        30\n",
      "          10       1.00      0.87      0.93        30\n",
      "          11       1.00      0.87      0.93        30\n",
      "          12       1.00      0.97      0.98        30\n",
      "          13       1.00      0.97      0.98        30\n",
      "          14       0.97      1.00      0.98        30\n",
      "          15       0.97      1.00      0.98        30\n",
      "\n",
      "    accuracy                           0.95       480\n",
      "   macro avg       0.96      0.95      0.95       480\n",
      "weighted avg       0.96      0.95      0.95       480\n",
      "\n"
     ]
    }
   ],
   "source": [
    "from sklearn.metrics import classification_report\n",
    "\n",
    "print(classification_report(test_labels, predicted_labels))\n"
   ]
  },
  {
   "cell_type": "code",
   "execution_count": 18,
   "id": "c539ec42",
   "metadata": {},
   "outputs": [
    {
     "name": "stdout",
     "output_type": "stream",
     "text": [
      "[[19  0  0  0  0  0  0 11  0  0  0  0  0  0  0  0]\n",
      " [ 0 30  0  0  0  0  0  0  0  0  0  0  0  0  0  0]\n",
      " [ 0  0 30  0  0  0  0  0  0  0  0  0  0  0  0  0]\n",
      " [ 0  0  0 30  0  0  0  0  0  0  0  0  0  0  0  0]\n",
      " [ 0  0  0  0 30  0  0  0  0  0  0  0  0  0  0  0]\n",
      " [ 0  0  0  0  0 30  0  0  0  0  0  0  0  0  0  0]\n",
      " [ 0  0  0  1  0  0 27  2  0  0  0  0  0  0  0  0]\n",
      " [ 1  0  0  0  0  0  0 29  0  0  0  0  0  0  0  0]\n",
      " [ 0  0  0  0  0  0  0  0 30  0  0  0  0  0  0  0]\n",
      " [ 0  0  0  0  0  0  0  0  0 29  0  0  0  0  1  0]\n",
      " [ 0  1  3  0  0  0  0  0  0  0 26  0  0  0  0  0]\n",
      " [ 0  0  1  0  0  1  0  0  1  0  0 26  0  0  0  1]\n",
      " [ 0  0  1  0  0  0  0  0  0  0  0  0 29  0  0  0]\n",
      " [ 0  0  0  0  0  0  0  1  0  0  0  0  0 29  0  0]\n",
      " [ 0  0  0  0  0  0  0  0  0  0  0  0  0  0 30  0]\n",
      " [ 0  0  0  0  0  0  0  0  0  0  0  0  0  0  0 30]]\n"
     ]
    }
   ],
   "source": [
    "from sklearn.metrics import confusion_matrix\n",
    "import numpy as np\n",
    "\n",
    "cm = confusion_matrix(test_labels, predicted_labels)\n",
    "print(cm)"
   ]
  },
  {
   "cell_type": "code",
   "execution_count": 21,
   "id": "8abefba3",
   "metadata": {},
   "outputs": [],
   "source": [
    "import pandas as pd\n",
    "data = {'GIVEN TEST IMG': test_imgname, 'GIVEN TEST CLASS': test_labels, 'PREDICTED CLASS': predicted_labels}\n",
    "df = pd.DataFrame(data)\n",
    "df.to_csv(\"cnn_pre.csv\", index=False)"
   ]
  },
  {
   "cell_type": "code",
   "execution_count": null,
   "id": "18752e26",
   "metadata": {},
   "outputs": [],
   "source": []
  }
 ],
 "metadata": {
  "kernelspec": {
   "display_name": "Python 3 (ipykernel)",
   "language": "python",
   "name": "python3"
  },
  "language_info": {
   "codemirror_mode": {
    "name": "ipython",
    "version": 3
   },
   "file_extension": ".py",
   "mimetype": "text/x-python",
   "name": "python",
   "nbconvert_exporter": "python",
   "pygments_lexer": "ipython3",
   "version": "3.9.13"
  }
 },
 "nbformat": 4,
 "nbformat_minor": 5
}
