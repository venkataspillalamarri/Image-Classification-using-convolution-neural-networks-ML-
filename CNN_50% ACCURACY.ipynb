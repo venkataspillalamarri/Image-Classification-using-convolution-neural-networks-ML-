{
 "cells": [
  {
   "cell_type": "code",
   "execution_count": 1,
   "id": "5ddde17d",
   "metadata": {},
   "outputs": [],
   "source": [
    "import os\n",
    "import tensorflow as tf\n",
    "from tensorflow.keras.preprocessing.image import ImageDataGenerator"
   ]
  },
  {
   "cell_type": "code",
   "execution_count": 2,
   "id": "3faec837",
   "metadata": {},
   "outputs": [],
   "source": [
    "base_dir = r\"C:\\Users\\18138\\Desktop\\data anly\\Training Image sp 23\""
   ]
  },
  {
   "cell_type": "code",
   "execution_count": 3,
   "id": "2a2055a2",
   "metadata": {},
   "outputs": [],
   "source": [
    "subdirs = os.listdir(base_dir)\n",
    "class_names = sorted(subdirs)\n",
    "img_size = (224, 224)\n",
    "batch_size = 32"
   ]
  },
  {
   "cell_type": "code",
   "execution_count": 4,
   "id": "12683ee8",
   "metadata": {},
   "outputs": [
    {
     "name": "stdout",
     "output_type": "stream",
     "text": [
      "Found 1659 images belonging to 16 classes.\n",
      "Found 179 images belonging to 16 classes.\n"
     ]
    }
   ],
   "source": [
    "# Split the data into training and validation sets\n",
    "train_datagen = ImageDataGenerator(\n",
    "    rescale=1./255,\n",
    "    shear_range=0.2,\n",
    "    zoom_range=0.2,\n",
    "    horizontal_flip=True,\n",
    "    validation_split=0.1)\n",
    "\n",
    "train_generator = train_datagen.flow_from_directory(\n",
    "    base_dir,\n",
    "    target_size=img_size,\n",
    "    batch_size=batch_size,\n",
    "    classes=class_names,\n",
    "    class_mode='categorical',\n",
    "    subset='training')\n",
    "\n",
    "valid_generator = train_datagen.flow_from_directory(\n",
    "    base_dir,\n",
    "    target_size=img_size,\n",
    "    batch_size=batch_size,\n",
    "    classes=class_names,\n",
    "    class_mode='categorical',\n",
    "    subset='validation')"
   ]
  },
  {
   "cell_type": "code",
   "execution_count": 5,
   "id": "c0fb842d",
   "metadata": {},
   "outputs": [],
   "source": [
    "model = tf.keras.Sequential([\n",
    "    tf.keras.layers.Conv2D(32, (3, 3), activation='relu', input_shape=(224, 224, 3)),\n",
    "    tf.keras.layers.MaxPooling2D((2, 2)),\n",
    "    tf.keras.layers.Conv2D(64, (3, 3), activation='relu'),\n",
    "    tf.keras.layers.MaxPooling2D((2, 2)),\n",
    "    tf.keras.layers.Conv2D(128, (3, 3), activation='relu'),\n",
    "    tf.keras.layers.MaxPooling2D((2, 2)),\n",
    "    tf.keras.layers.Conv2D(128, (3, 3), activation='relu'),\n",
    "    tf.keras.layers.MaxPooling2D((2, 2)),\n",
    "    tf.keras.layers.Flatten(),\n",
    "    tf.keras.layers.Dense(512, activation='relu'),\n",
    "    tf.keras.layers.Dropout(0.5),\n",
    "    tf.keras.layers.Dense(16, activation='softmax')\n",
    "])"
   ]
  },
  {
   "cell_type": "code",
   "execution_count": null,
   "id": "ece54915",
   "metadata": {},
   "outputs": [],
   "source": []
  },
  {
   "cell_type": "code",
   "execution_count": 6,
   "id": "9f9e5e13",
   "metadata": {},
   "outputs": [
    {
     "name": "stdout",
     "output_type": "stream",
     "text": [
      "Epoch 1/50\n",
      "52/52 [==============================] - 56s 1s/step - loss: 2.7333 - accuracy: 0.0976 - val_loss: 2.5225 - val_accuracy: 0.2123\n",
      "Epoch 2/50\n",
      "52/52 [==============================] - 54s 1s/step - loss: 2.4671 - accuracy: 0.1851 - val_loss: 2.1999 - val_accuracy: 0.2402\n",
      "Epoch 3/50\n",
      "52/52 [==============================] - 54s 1s/step - loss: 2.2891 - accuracy: 0.2514 - val_loss: 1.9982 - val_accuracy: 0.3296\n",
      "Epoch 4/50\n",
      "52/52 [==============================] - 55s 1s/step - loss: 2.1008 - accuracy: 0.3273 - val_loss: 1.8630 - val_accuracy: 0.3799\n",
      "Epoch 5/50\n",
      "52/52 [==============================] - 55s 1s/step - loss: 1.9298 - accuracy: 0.3605 - val_loss: 1.9196 - val_accuracy: 0.3799\n",
      "Epoch 6/50\n",
      "52/52 [==============================] - 55s 1s/step - loss: 1.8579 - accuracy: 0.3978 - val_loss: 1.8167 - val_accuracy: 0.4246\n",
      "Epoch 7/50\n",
      "52/52 [==============================] - 54s 1s/step - loss: 1.7145 - accuracy: 0.4346 - val_loss: 1.6631 - val_accuracy: 0.4469\n",
      "Epoch 8/50\n",
      "52/52 [==============================] - 54s 1s/step - loss: 1.6267 - accuracy: 0.4702 - val_loss: 1.7010 - val_accuracy: 0.4134\n",
      "Epoch 9/50\n",
      "52/52 [==============================] - 54s 1s/step - loss: 1.5078 - accuracy: 0.5130 - val_loss: 1.5106 - val_accuracy: 0.4804\n",
      "Epoch 10/50\n",
      "52/52 [==============================] - 54s 1s/step - loss: 1.4211 - accuracy: 0.5335 - val_loss: 1.5490 - val_accuracy: 0.4749\n",
      "Epoch 11/50\n",
      "52/52 [==============================] - 54s 1s/step - loss: 1.3116 - accuracy: 0.5835 - val_loss: 1.5214 - val_accuracy: 0.5028\n",
      "Epoch 12/50\n",
      "52/52 [==============================] - 54s 1s/step - loss: 1.1842 - accuracy: 0.6016 - val_loss: 1.5934 - val_accuracy: 0.4916\n",
      "Epoch 13/50\n",
      "52/52 [==============================] - 55s 1s/step - loss: 1.1793 - accuracy: 0.6112 - val_loss: 1.5082 - val_accuracy: 0.4749\n",
      "Epoch 14/50\n",
      "52/52 [==============================] - 55s 1s/step - loss: 1.0284 - accuracy: 0.6516 - val_loss: 2.0321 - val_accuracy: 0.4525\n",
      "Epoch 15/50\n",
      "52/52 [==============================] - 54s 1s/step - loss: 1.0032 - accuracy: 0.6697 - val_loss: 1.5449 - val_accuracy: 0.4749\n",
      "Epoch 16/50\n",
      "52/52 [==============================] - 54s 1s/step - loss: 0.9684 - accuracy: 0.6727 - val_loss: 1.6863 - val_accuracy: 0.4749\n",
      "Epoch 17/50\n",
      "52/52 [==============================] - 54s 1s/step - loss: 0.8299 - accuracy: 0.7161 - val_loss: 1.5418 - val_accuracy: 0.5642\n",
      "Epoch 18/50\n",
      "52/52 [==============================] - 54s 1s/step - loss: 0.7908 - accuracy: 0.7312 - val_loss: 1.5051 - val_accuracy: 0.5363\n",
      "Epoch 19/50\n",
      "52/52 [==============================] - 54s 1s/step - loss: 0.8009 - accuracy: 0.7426 - val_loss: 1.6045 - val_accuracy: 0.5307\n",
      "Epoch 20/50\n",
      "52/52 [==============================] - 54s 1s/step - loss: 0.6815 - accuracy: 0.7691 - val_loss: 1.8401 - val_accuracy: 0.5196\n",
      "Epoch 21/50\n",
      "52/52 [==============================] - 56s 1s/step - loss: 0.6429 - accuracy: 0.7878 - val_loss: 1.5166 - val_accuracy: 0.5307\n",
      "Epoch 22/50\n",
      "52/52 [==============================] - 54s 1s/step - loss: 0.6563 - accuracy: 0.7715 - val_loss: 1.7071 - val_accuracy: 0.5251\n",
      "Epoch 23/50\n",
      "52/52 [==============================] - 54s 1s/step - loss: 0.5571 - accuracy: 0.8156 - val_loss: 1.8668 - val_accuracy: 0.5307\n",
      "Epoch 24/50\n",
      "52/52 [==============================] - 54s 1s/step - loss: 0.5511 - accuracy: 0.8228 - val_loss: 2.1226 - val_accuracy: 0.4804\n",
      "Epoch 25/50\n",
      "52/52 [==============================] - 54s 1s/step - loss: 0.5041 - accuracy: 0.8318 - val_loss: 1.9511 - val_accuracy: 0.5251\n",
      "Epoch 26/50\n",
      "52/52 [==============================] - 54s 1s/step - loss: 0.4874 - accuracy: 0.8276 - val_loss: 1.5884 - val_accuracy: 0.5531\n",
      "Epoch 27/50\n",
      "52/52 [==============================] - 54s 1s/step - loss: 0.4527 - accuracy: 0.8523 - val_loss: 1.7661 - val_accuracy: 0.5754\n",
      "Epoch 28/50\n",
      "52/52 [==============================] - 54s 1s/step - loss: 0.4143 - accuracy: 0.8608 - val_loss: 1.8030 - val_accuracy: 0.5363\n",
      "Epoch 29/50\n",
      "52/52 [==============================] - 54s 1s/step - loss: 0.4159 - accuracy: 0.8614 - val_loss: 2.0516 - val_accuracy: 0.5140\n",
      "Epoch 30/50\n",
      "52/52 [==============================] - 54s 1s/step - loss: 0.4138 - accuracy: 0.8668 - val_loss: 2.1799 - val_accuracy: 0.5196\n",
      "Epoch 31/50\n",
      "52/52 [==============================] - 54s 1s/step - loss: 0.4019 - accuracy: 0.8614 - val_loss: 1.8482 - val_accuracy: 0.5475\n",
      "Epoch 32/50\n",
      "52/52 [==============================] - 54s 1s/step - loss: 0.3375 - accuracy: 0.8903 - val_loss: 2.2366 - val_accuracy: 0.5196\n",
      "Epoch 33/50\n",
      "52/52 [==============================] - 54s 1s/step - loss: 0.3569 - accuracy: 0.8782 - val_loss: 2.3238 - val_accuracy: 0.4804\n",
      "Epoch 34/50\n",
      "52/52 [==============================] - 59s 1s/step - loss: 0.3422 - accuracy: 0.8909 - val_loss: 1.9539 - val_accuracy: 0.5754\n",
      "Epoch 35/50\n",
      "52/52 [==============================] - 62s 1s/step - loss: 0.3134 - accuracy: 0.9011 - val_loss: 2.6018 - val_accuracy: 0.5531\n",
      "Epoch 36/50\n",
      "52/52 [==============================] - 61s 1s/step - loss: 0.3160 - accuracy: 0.9011 - val_loss: 2.4395 - val_accuracy: 0.5028\n",
      "Epoch 37/50\n",
      "52/52 [==============================] - 61s 1s/step - loss: 0.3542 - accuracy: 0.8861 - val_loss: 1.9421 - val_accuracy: 0.5084\n",
      "Epoch 38/50\n",
      "52/52 [==============================] - 62s 1s/step - loss: 0.3513 - accuracy: 0.8879 - val_loss: 2.1563 - val_accuracy: 0.5084\n",
      "Epoch 39/50\n",
      "52/52 [==============================] - 62s 1s/step - loss: 0.2843 - accuracy: 0.9048 - val_loss: 2.0455 - val_accuracy: 0.5028\n",
      "Epoch 40/50\n",
      "52/52 [==============================] - 62s 1s/step - loss: 0.2180 - accuracy: 0.9259 - val_loss: 2.1255 - val_accuracy: 0.5419\n",
      "Epoch 41/50\n",
      "52/52 [==============================] - 61s 1s/step - loss: 0.2744 - accuracy: 0.9066 - val_loss: 2.2949 - val_accuracy: 0.4972\n",
      "Epoch 42/50\n",
      "52/52 [==============================] - 61s 1s/step - loss: 0.2014 - accuracy: 0.9337 - val_loss: 2.3330 - val_accuracy: 0.5419\n",
      "Epoch 43/50\n",
      "52/52 [==============================] - 61s 1s/step - loss: 0.2168 - accuracy: 0.9325 - val_loss: 2.0435 - val_accuracy: 0.5642\n",
      "Epoch 44/50\n",
      "52/52 [==============================] - 61s 1s/step - loss: 0.2585 - accuracy: 0.9186 - val_loss: 1.9234 - val_accuracy: 0.5475\n",
      "Epoch 45/50\n",
      "52/52 [==============================] - 150s 3s/step - loss: 0.2591 - accuracy: 0.9102 - val_loss: 2.4040 - val_accuracy: 0.5419\n",
      "Epoch 46/50\n",
      "52/52 [==============================] - 65s 1s/step - loss: 0.2496 - accuracy: 0.9210 - val_loss: 2.1708 - val_accuracy: 0.5140\n",
      "Epoch 47/50\n",
      "52/52 [==============================] - 65s 1s/step - loss: 0.2079 - accuracy: 0.9355 - val_loss: 2.0967 - val_accuracy: 0.5363\n",
      "Epoch 48/50\n",
      "52/52 [==============================] - 65s 1s/step - loss: 0.1911 - accuracy: 0.9409 - val_loss: 2.1660 - val_accuracy: 0.5531\n",
      "Epoch 49/50\n",
      "52/52 [==============================] - 66s 1s/step - loss: 0.2092 - accuracy: 0.9301 - val_loss: 2.1699 - val_accuracy: 0.5587\n",
      "Epoch 50/50\n",
      "52/52 [==============================] - 66s 1s/step - loss: 0.1680 - accuracy: 0.9409 - val_loss: 2.4193 - val_accuracy: 0.5587\n"
     ]
    }
   ],
   "source": [
    "# Compile the model\n",
    "model.compile(optimizer='adam',loss='categorical_crossentropy',metrics=['accuracy'])\n",
    "\n",
    "# Train the model\n",
    "history = model.fit(train_generator, validation_data=valid_generator,epochs=50)\n",
    "\n"
   ]
  },
  {
   "cell_type": "code",
   "execution_count": null,
   "id": "43a6b745",
   "metadata": {},
   "outputs": [],
   "source": []
  },
  {
   "cell_type": "code",
   "execution_count": 7,
   "id": "0ff0fb5a",
   "metadata": {},
   "outputs": [
    {
     "name": "stdout",
     "output_type": "stream",
     "text": [
      "6/6 [==============================] - 4s 558ms/step - loss: 2.3244 - accuracy: 0.5698\n",
      "Validation Accuracy: 0.5698323845863342\n"
     ]
    }
   ],
   "source": [
    "# Evaluate the model on the validation data\n",
    "loss, accuracy = model.evaluate(valid_generator)\n",
    "\n",
    "# Print the validation accuracy\n",
    "print('Validation Accuracy:', accuracy)\n"
   ]
  },
  {
   "cell_type": "code",
   "execution_count": 23,
   "id": "c1834415",
   "metadata": {},
   "outputs": [
    {
     "data": {
      "image/png": "[encoded data removed]",
      "text/plain": [
       "<Figure size 640x480 with 1 Axes>"
      ]
     },
     "metadata": {},
     "output_type": "display_data"
    },
    {
     "data": {
      "image/png": "[encoded data removed]",
      "text/plain": [
       "<Figure size 640x480 with 1 Axes>"
      ]
     },
     "metadata": {},
     "output_type": "display_data"
    }
   ],
   "source": [
    "import matplotlib.pyplot as plt\n",
    "\n",
    "# Plot the normal and validation loss\n",
    "plt.plot(history.history['loss'], label='train')\n",
    "plt.plot(history.history['val_loss'], label='validation')\n",
    "plt.title('Model Loss')\n",
    "plt.xlabel('Epoch')\n",
    "plt.ylabel('Loss')\n",
    "plt.legend()\n",
    "plt.show()\n",
    "\n",
    "# Plot the normal and validation accuracy\n",
    "plt.plot(history.history['accuracy'], label='train')\n",
    "plt.plot(history.history['val_accuracy'], label='validation')\n",
    "plt.title('Model Accuracy')\n",
    "plt.xlabel('Epoch')\n",
    "plt.ylabel('Accuracy')\n",
    "plt.legend()\n",
    "plt.show()"
   ]
  },
  {
   "cell_type": "code",
   "execution_count": 8,
   "id": "e0fc9efd",
   "metadata": {},
   "outputs": [],
   "source": [
    "# Define the base directory containing the image data\n",
    "test_dir = r\"C:\\Users\\18138\\Desktop\\data anly\\Test Image sp 23\"\n",
    "\n"
   ]
  },
  {
   "cell_type": "code",
   "execution_count": null,
   "id": "720b6e86",
   "metadata": {},
   "outputs": [],
   "source": []
  },
  {
   "cell_type": "code",
   "execution_count": null,
   "id": "6a13a2df",
   "metadata": {},
   "outputs": [],
   "source": []
  },
  {
   "cell_type": "code",
   "execution_count": 9,
   "id": "57170ebc",
   "metadata": {},
   "outputs": [
    {
     "name": "stdout",
     "output_type": "stream",
     "text": [
      "0\n",
      "Adult\n",
      "1\n",
      "Airplane\n",
      "2\n",
      "Alpaca\n",
      "3\n",
      "Bird\n",
      "4\n",
      "Bus\n",
      "5\n",
      "Car\n",
      "6\n",
      "Cat\n",
      "7\n",
      "Child\n",
      "8\n",
      "Elephant\n",
      "9\n",
      "Flower\n",
      "10\n",
      "Giraffe\n",
      "11\n",
      "Horse\n",
      "12\n",
      "Monkey\n",
      "13\n",
      "Panda\n",
      "14\n",
      "Reptile\n",
      "15\n",
      "Vessel\n"
     ]
    }
   ],
   "source": [
    "import cv2\n",
    "#print(\"---------------------TEST_DATA_READING OF DATA --------------------\")\n",
    "\n",
    "test_clsname = [name for name in os.listdir(test_dir) if os.path.isdir(os.path.join(test_dir, name))]\n",
    "#print(\"---------------------CLASSES --------------------\")\n",
    "#print(f\"CLASSES LIST: {test_clsname}\")\n",
    "#print(\"---------------------LENGTH OF CLASSES --------------------\")\n",
    "#print(len(test_clsname))\n",
    "img_size = 224\n",
    "test_data = [] \n",
    "label = 0\n",
    "while label < len(test_clsname):\n",
    "    category = test_clsname[label]\n",
    "    print(label)\n",
    "    print(category)\n",
    "    #print(\"---------------------CATEG,LABL --------------------\")\n",
    "    #print(f\"CATEGORY:LABELS= {category,label}\")\n",
    "    path = os.path.join(test_dir, category)\n",
    "    img_name_index = 0\n",
    "    while img_name_index < len(os.listdir(path)):\n",
    "        img_name = os.listdir(path)[img_name_index]\n",
    "        img_path = os.path.join(path, img_name)\n",
    "        #print(img_name)\n",
    "        if img_name.lower().endswith(('.jpg', '.jpeg', '.png', '.gif')):\n",
    "            img_arr = cv2.imread(img_path, cv2.IMREAD_COLOR)\n",
    "            img_arr = cv2.resize(img_arr, (img_size, img_size))\n",
    "            #print(img_name)\n",
    "            test_data.append([img_arr, label,img_name])\n",
    "            #plt.imshow(img_arr)\n",
    "            #plt.show()\n",
    "            #print(img_name)\n",
    "        img_name_index += 1\n",
    "    label += 1"
   ]
  },
  {
   "cell_type": "code",
   "execution_count": 10,
   "id": "c386c271",
   "metadata": {},
   "outputs": [
    {
     "name": "stdout",
     "output_type": "stream",
     "text": [
      "Found 480 images belonging to 16 classes.\n"
     ]
    }
   ],
   "source": [
    "test_image_generator = ImageDataGenerator(rescale=1./255)\n",
    "test_data_gen = test_image_generator.flow_from_directory(\n",
    "    batch_size=32,\n",
    "    directory=test_dir,\n",
    "    shuffle=False,\n",
    "    target_size=(224,224),\n",
    "    class_mode='categorical'\n",
    ")"
   ]
  },
  {
   "cell_type": "code",
   "execution_count": 22,
   "id": "b85d226c",
   "metadata": {},
   "outputs": [
    {
     "name": "stdout",
     "output_type": "stream",
     "text": [
      "15/15 [==============================] - 7s 456ms/step - loss: 3.4775 - accuracy: 0.4729\n",
      "Test Accuracy: 47.29166626930237\n"
     ]
    }
   ],
   "source": [
    "loss, accuracy = model.evaluate(test_data_gen)\n",
    "\n",
    "# Print the test accuracy\n",
    "print('Test Accuracy:', accuracy*100)"
   ]
  },
  {
   "cell_type": "code",
   "execution_count": 12,
   "id": "28c54f74",
   "metadata": {},
   "outputs": [
    {
     "name": "stdout",
     "output_type": "stream",
     "text": [
      "15/15 [==============================] - 6s 375ms/step\n"
     ]
    },
    {
     "data": {
      "text/plain": [
       "array([13,  6, 15, 12,  0,  0,  6,  0, 14,  0,  2,  0,  0,  0,  0,  0,  0,\n",
       "        0, 15,  6,  0,  3,  7,  5,  7,  6,  4,  7,  0,  5, 15,  3,  1,  5,\n",
       "        1,  1, 15,  1,  1,  1,  1,  1,  1, 15,  4,  1,  5,  1,  5,  1,  1,\n",
       "        1, 15,  4,  4, 14,  0,  1,  1, 15, 10,  0,  2, 13, 11,  2, 10,  0,\n",
       "       14,  2,  2,  2,  0,  2, 13,  2,  8, 10,  2, 10,  2, 13,  9, 13,  3,\n",
       "       10,  2,  8,  6, 12, 12, 15,  4, 14,  0,  8,  9,  1,  8,  0,  5,  3,\n",
       "        3,  0,  9,  1,  1, 11,  0, 13,  7, 15,  3,  3,  1,  1,  1, 11, 10,\n",
       "        5,  5,  5,  5,  4,  4,  4,  4,  0,  4,  4,  4,  4,  4,  4,  5,  4,\n",
       "        4,  4,  4,  4,  4,  4,  4, 15,  4,  4,  4,  4,  4,  4,  5,  4,  4,\n",
       "        1,  5, 15,  5,  5,  4, 12,  5, 15,  5,  5,  5,  4,  4,  5,  4,  5,\n",
       "        5,  1,  5,  1,  4,  5,  5,  7,  5,  4,  3,  9,  6, 14,  7, 12,  6,\n",
       "       15, 12,  6,  0,  6,  6,  7,  6, 14,  6,  7,  6, 13,  2,  9,  0,  3,\n",
       "        0,  3,  7,  9,  6, 10,  7,  7, 12,  0,  6,  0,  4,  7,  7,  7,  7,\n",
       "        6,  7,  9,  6,  0,  0,  4,  7,  0,  4,  7,  7,  0,  7,  0,  0,  0,\n",
       "        7,  7, 10, 10, 10,  8,  9,  1,  2,  8,  8,  2,  3, 10,  8,  8, 10,\n",
       "       10,  8,  8,  2,  8,  8,  8,  2,  8, 10, 10, 10, 10, 10, 13,  9,  4,\n",
       "        9,  9,  9, 12,  0,  9,  9,  9,  2,  9, 14,  9,  9,  9,  0,  4,  0,\n",
       "        9,  4, 11,  9,  9,  9, 13, 12,  0,  0,  0,  2,  9, 10, 10, 10,  5,\n",
       "        7, 10, 10,  2, 10,  1, 10, 10, 10, 10, 10,  7, 10,  0, 10,  2, 10,\n",
       "        4,  6, 10, 12,  6, 10, 10,  0, 10, 11, 11,  2, 11, 11, 11, 11, 13,\n",
       "       11,  7, 11,  8, 11,  8,  9,  0,  8,  3,  2,  2, 11, 11, 11,  5, 11,\n",
       "       10,  2, 11,  9,  5,  8,  6, 12, 10,  9,  0, 12,  7, 13,  3,  0, 12,\n",
       "       14,  6,  3,  9,  6,  8,  1,  0, 13,  5, 12, 12, 12, 12, 12,  1, 12,\n",
       "       13, 13, 13, 13, 13, 13, 13, 13, 11, 13, 13, 13, 13, 12,  3, 13, 13,\n",
       "       13, 13, 13, 13, 13, 13, 13,  5, 13, 13, 13, 13,  6, 10, 10,  6, 10,\n",
       "       14,  5,  4,  0,  4,  0, 14, 14,  7,  5,  0,  0, 14, 13, 14, 14,  1,\n",
       "       13, 14,  6, 14,  4,  5, 10,  4, 15,  0, 15,  1, 15, 15, 15, 15, 15,\n",
       "       15,  4, 15,  1, 15, 15, 15, 15, 15, 15, 15, 15,  1, 15, 15, 15, 15,\n",
       "       15, 15, 15, 15], dtype=int64)"
      ]
     },
     "execution_count": 12,
     "metadata": {},
     "output_type": "execute_result"
    }
   ],
   "source": [
    "import numpy as np\n",
    "\n",
    "# Make predictions on the test data\n",
    "predictions = model.predict(test_data_gen)\n",
    "\n",
    "# Convert the predicted probabilities to class labels\n",
    "predicted_labels = np.argmax(predictions, axis=1)\n",
    "\n",
    "predicted_labels"
   ]
  },
  {
   "cell_type": "code",
   "execution_count": 13,
   "id": "30ab6e54",
   "metadata": {},
   "outputs": [
    {
     "name": "stdout",
     "output_type": "stream",
     "text": [
      "[0, 0, 0, 0, 0, 0, 0, 0, 0, 0, 0, 0, 0, 0, 0, 0, 0, 0, 0, 0, 0, 0, 0, 0, 0, 0, 0, 0, 0, 0, 1, 1, 1, 1, 1, 1, 1, 1, 1, 1, 1, 1, 1, 1, 1, 1, 1, 1, 1, 1, 1, 1, 1, 1, 1, 1, 1, 1, 1, 1, 2, 2, 2, 2, 2, 2, 2, 2, 2, 2, 2, 2, 2, 2, 2, 2, 2, 2, 2, 2, 2, 2, 2, 2, 2, 2, 2, 2, 2, 2, 3, 3, 3, 3, 3, 3, 3, 3, 3, 3, 3, 3, 3, 3, 3, 3, 3, 3, 3, 3, 3, 3, 3, 3, 3, 3, 3, 3, 3, 3, 4, 4, 4, 4, 4, 4, 4, 4, 4, 4, 4, 4, 4, 4, 4, 4, 4, 4, 4, 4, 4, 4, 4, 4, 4, 4, 4, 4, 4, 4, 5, 5, 5, 5, 5, 5, 5, 5, 5, 5, 5, 5, 5, 5, 5, 5, 5, 5, 5, 5, 5, 5, 5, 5, 5, 5, 5, 5, 5, 5, 6, 6, 6, 6, 6, 6, 6, 6, 6, 6, 6, 6, 6, 6, 6, 6, 6, 6, 6, 6, 6, 6, 6, 6, 6, 6, 6, 6, 6, 6, 7, 7, 7, 7, 7, 7, 7, 7, 7, 7, 7, 7, 7, 7, 7, 7, 7, 7, 7, 7, 7, 7, 7, 7, 7, 7, 7, 7, 7, 7, 8, 8, 8, 8, 8, 8, 8, 8, 8, 8, 8, 8, 8, 8, 8, 8, 8, 8, 8, 8, 8, 8, 8, 8, 8, 8, 8, 8, 8, 8, 9, 9, 9, 9, 9, 9, 9, 9, 9, 9, 9, 9, 9, 9, 9, 9, 9, 9, 9, 9, 9, 9, 9, 9, 9, 9, 9, 9, 9, 9, 10, 10, 10, 10, 10, 10, 10, 10, 10, 10, 10, 10, 10, 10, 10, 10, 10, 10, 10, 10, 10, 10, 10, 10, 10, 10, 10, 10, 10, 10, 11, 11, 11, 11, 11, 11, 11, 11, 11, 11, 11, 11, 11, 11, 11, 11, 11, 11, 11, 11, 11, 11, 11, 11, 11, 11, 11, 11, 11, 11, 12, 12, 12, 12, 12, 12, 12, 12, 12, 12, 12, 12, 12, 12, 12, 12, 12, 12, 12, 12, 12, 12, 12, 12, 12, 12, 12, 12, 12, 12, 13, 13, 13, 13, 13, 13, 13, 13, 13, 13, 13, 13, 13, 13, 13, 13, 13, 13, 13, 13, 13, 13, 13, 13, 13, 13, 13, 13, 13, 13, 14, 14, 14, 14, 14, 14, 14, 14, 14, 14, 14, 14, 14, 14, 14, 14, 14, 14, 14, 14, 14, 14, 14, 14, 14, 14, 14, 14, 14, 14, 15, 15, 15, 15, 15, 15, 15, 15, 15, 15, 15, 15, 15, 15, 15, 15, 15, 15, 15, 15, 15, 15, 15, 15, 15, 15, 15, 15, 15, 15]\n"
     ]
    }
   ],
   "source": [
    "test_labels=[i[1] for i in test_data]\n",
    "print(test_labels)"
   ]
  },
  {
   "cell_type": "code",
   "execution_count": 14,
   "id": "3ccd1058",
   "metadata": {},
   "outputs": [
    {
     "name": "stdout",
     "output_type": "stream",
     "text": [
      "['test_adult (1).jpg', 'test_adult (10).jpg', 'test_adult (11).jpg', 'test_adult (12).jpg', 'test_adult (13).jpg', 'test_adult (14).jpg', 'test_adult (15).jpg', 'test_adult (16).jpg', 'test_adult (17).jpg', 'test_adult (18).jpg', 'test_adult (19).jpg', 'test_adult (2).jpg', 'test_adult (20).jpg', 'test_adult (21).jpg', 'test_adult (22).jpg', 'test_adult (23).jpg', 'test_adult (24).jpg', 'test_adult (25).jpg', 'test_adult (26).jpg', 'test_adult (27).jpg', 'test_adult (28).jpg', 'test_adult (29).jpg', 'test_adult (3).jpg', 'test_adult (30).jpg', 'test_adult (4).jpg', 'test_adult (5).jpg', 'test_adult (6).jpg', 'test_adult (7).jpg', 'test_adult (8).jpg', 'test_adult (9).jpg', 'test_airplane (1).jpg', 'test_airplane (10).jpg', 'test_airplane (11).jpg', 'test_airplane (12).jpg', 'test_airplane (13).jpg', 'test_airplane (14).jpg', 'test_airplane (15).jpg', 'test_airplane (16).jpg', 'test_airplane (17).jpg', 'test_airplane (18).jpg', 'test_airplane (19).jpg', 'test_airplane (2).jpg', 'test_airplane (20).jpg', 'test_airplane (21).jpg', 'test_airplane (22).jpg', 'test_airplane (23).jpg', 'test_airplane (24).jpg', 'test_airplane (25).jpg', 'test_airplane (26).jpg', 'test_airplane (27).jpg', 'test_airplane (28).jpg', 'test_airplane (29).jpg', 'test_airplane (3).jpg', 'test_airplane (30).jpg', 'test_airplane (4).jpg', 'test_airplane (5).jpg', 'test_airplane (6).jpg', 'test_airplane (7).jpg', 'test_airplane (8).jpg', 'test_airplane (9).jpg', 'test_alpaca (1).jpg', 'test_alpaca (10).jpg', 'test_alpaca (11).jpg', 'test_alpaca (12).jpg', 'test_alpaca (13).jpg', 'test_alpaca (14).jpg', 'test_alpaca (15).jpg', 'test_alpaca (16).jpg', 'test_alpaca (17).jpg', 'test_alpaca (18).jpg', 'test_alpaca (19).jpg', 'test_alpaca (2).jpg', 'test_alpaca (20).jpg', 'test_alpaca (21).jpg', 'test_alpaca (22).jpg', 'test_alpaca (23).jpg', 'test_alpaca (24).jpg', 'test_alpaca (25).jpg', 'test_alpaca (26).jpg', 'test_alpaca (27).jpg', 'test_alpaca (28).jpg', 'test_alpaca (29).jpg', 'test_alpaca (3).jpg', 'test_alpaca (30).jpg', 'test_alpaca (4).jpg', 'test_alpaca (5).jpg', 'test_alpaca (6).jpg', 'test_alpaca (7).jpg', 'test_alpaca (8).jpg', 'test_alpaca (9).jpg', 'test_bird (1).jpg', 'test_bird (10).jpg', 'test_bird (11).jpg', 'test_bird (12).jpg', 'test_bird (13).jpg', 'test_bird (14).jpg', 'test_bird (15).jpg', 'test_bird (16).jpg', 'test_bird (17).jpg', 'test_bird (18).jpg', 'test_bird (19).jpg', 'test_bird (2).jpg', 'test_bird (20).jpg', 'test_bird (21).jpg', 'test_bird (22).jpg', 'test_bird (23).jpg', 'test_bird (24).jpg', 'test_bird (25).jpg', 'test_bird (26).jpg', 'test_bird (27).jpg', 'test_bird (28).jpg', 'test_bird (29).jpg', 'test_bird (3).jpg', 'test_bird (30).jpg', 'test_bird (4).jpg', 'test_bird (5).jpg', 'test_bird (6).jpg', 'test_bird (7).jpg', 'test_bird (8).jpg', 'test_bird (9).jpg', 'test_bus (1).jpg', 'test_bus (10).jpg', 'test_bus (11).jpg', 'test_bus (12).jpg', 'test_bus (13).jpg', 'test_bus (14).jpg', 'test_bus (15).jpg', 'test_bus (16).jpg', 'test_bus (17).jpg', 'test_bus (18).jpg', 'test_bus (19).jpg', 'test_bus (2).jpg', 'test_bus (20).jpg', 'test_bus (21).jpg', 'test_bus (22).jpg', 'test_bus (23).jpg', 'test_bus (24).jpg', 'test_bus (25).jpg', 'test_bus (26).jpg', 'test_bus (27).jpg', 'test_bus (28).jpg', 'test_bus (29).jpg', 'test_bus (3).jpg', 'test_bus (30).jpg', 'test_bus (4).jpg', 'test_bus (5).jpg', 'test_bus (6).jpg', 'test_bus (7).jpg', 'test_bus (8).jpg', 'test_bus (9).jpg', 'test_car (1).jpg', 'test_car (10).jpg', 'test_car (11).jpg', 'test_car (12).jpg', 'test_car (13).jpg', 'test_car (14).jpg', 'test_car (15).jpg', 'test_car (16).jpg', 'test_car (17).jpg', 'test_car (18).jpg', 'test_car (19).jpg', 'test_car (2).jpg', 'test_car (20).jpg', 'test_car (21).jpg', 'test_car (22).jpg', 'test_car (23).jpg', 'test_car (24).jpg', 'test_car (25).jpg', 'test_car (26).jpg', 'test_car (27).jpg', 'test_car (28).jpg', 'test_car (29).jpg', 'test_car (3).jpg', 'test_car (30).jpg', 'test_car (4).jpg', 'test_car (5).jpg', 'test_car (6).jpg', 'test_car (7).jpg', 'test_car (8).jpg', 'test_car (9).jpg', 'test_cat (1).jpg', 'test_cat (10).jpg', 'test_cat (11).jpg', 'test_cat (12).jpg', 'test_cat (13).jpg', 'test_cat (14).jpg', 'test_cat (15).jpg', 'test_cat (16).jpg', 'test_cat (17).jpg', 'test_cat (18).jpg', 'test_cat (19).jpg', 'test_cat (2).jpg', 'test_cat (20).jpg', 'test_cat (21).jpg', 'test_cat (22).jpg', 'test_cat (23).jpg', 'test_cat (24).jpg', 'test_cat (25).jpg', 'test_cat (26).jpg', 'test_cat (27).jpg', 'test_cat (28).jpg', 'test_cat (29).jpg', 'test_cat (3).jpg', 'test_cat (30).jpg', 'test_cat (4).jpg', 'test_cat (5).jpg', 'test_cat (6).jpg', 'test_cat (7).jpg', 'test_cat (8).jpg', 'test_cat (9).jpg', 'test_child (1).jpg', 'test_child (10).jpg', 'test_child (11).jpg', 'test_child (12).jpg', 'test_child (13).jpg', 'test_child (14).jpg', 'test_child (15).jpg', 'test_child (16).jpg', 'test_child (17).jpg', 'test_child (18).jpg', 'test_child (19).jpg', 'test_child (2).jpg', 'test_child (20).jpg', 'test_child (21).jpg', 'test_child (22).jpg', 'test_child (23).jpg', 'test_child (24).jpg', 'test_child (25).jpg', 'test_child (26).jpg', 'test_child (27).jpg', 'test_child (28).jpg', 'test_child (29).jpg', 'test_child (3).jpg', 'test_child (30).jpg', 'test_child (4).jpg', 'test_child (5).jpg', 'test_child (6).jpg', 'test_child (7).jpg', 'test_child (8).jpg', 'test_child (9).jpg', 'test_elephant (1).jpg', 'test_elephant (10).jpg', 'test_elephant (11).jpg', 'test_elephant (12).jpg', 'test_elephant (13).jpg', 'test_elephant (14).jpg', 'test_elephant (15).jpg', 'test_elephant (16).jpg', 'test_elephant (17).jpg', 'test_elephant (18).jpg', 'test_elephant (19).jpg', 'test_elephant (2).jpg', 'test_elephant (20).jpg', 'test_elephant (21).jpg', 'test_elephant (22).jpg', 'test_elephant (23).jpg', 'test_elephant (24).jpg', 'test_elephant (25).jpg', 'test_elephant (26).jpg', 'test_elephant (27).jpg', 'test_elephant (28).jpg', 'test_elephant (29).jpg', 'test_elephant (3).jpg', 'test_elephant (30).jpg', 'test_elephant (4).jpg', 'test_elephant (5).jpg', 'test_elephant (6).jpg', 'test_elephant (7).jpg', 'test_elephant (8).jpg', 'test_elephant (9).jpg', 'test_flower (1).jpg', 'test_flower (10).jpg', 'test_flower (11).jpg', 'test_flower (12).jpg', 'test_flower (13).jpg', 'test_flower (14).jpg', 'test_flower (15).jpg', 'test_flower (16).jpg', 'test_flower (17).jpg', 'test_flower (18).jpg', 'test_flower (19).jpg', 'test_flower (2).jpg', 'test_flower (20).jpg', 'test_flower (21).jpg', 'test_flower (22).jpg', 'test_flower (23).jpg', 'test_flower (24).jpg', 'test_flower (25).jpg', 'test_flower (26).jpg', 'test_flower (27).jpg', 'test_flower (28).jpg', 'test_flower (29).jpg', 'test_flower (3).jpg', 'test_flower (30).jpg', 'test_flower (4).jpg', 'test_flower (5).jpg', 'test_flower (6).jpg', 'test_flower (7).jpg', 'test_flower (8).jpg', 'test_flower (9).jpg', 'test_giraffe (1).jpg', 'test_giraffe (10).jpg', 'test_giraffe (11).jpg', 'test_giraffe (12).jpg', 'test_giraffe (13).jpg', 'test_giraffe (14).jpg', 'test_giraffe (15).jpg', 'test_giraffe (16).jpg', 'test_giraffe (17).jpg', 'test_giraffe (18).jpg', 'test_giraffe (19).jpg', 'test_giraffe (2).jpg', 'test_giraffe (20).jpg', 'test_giraffe (21).jpg', 'test_giraffe (22).jpg', 'test_giraffe (23).jpg', 'test_giraffe (24).jpg', 'test_giraffe (25).jpg', 'test_giraffe (26).jpg', 'test_giraffe (27).jpg', 'test_giraffe (28).jpg', 'test_giraffe (29).jpg', 'test_giraffe (3).jpg', 'test_giraffe (30).jpg', 'test_giraffe (4).jpg', 'test_giraffe (5).jpg', 'test_giraffe (6).jpg', 'test_giraffe (7).jpg', 'test_giraffe (8).jpg', 'test_giraffe (9).jpg', 'test_horse (1).jpeg', 'test_horse (10).jpeg', 'test_horse (11).jpeg', 'test_horse (12).jpeg', 'test_horse (13).jpeg', 'test_horse (14).jpeg', 'test_horse (15).jpeg', 'test_horse (16).jpeg', 'test_horse (17).jpeg', 'test_horse (18).jpeg', 'test_horse (19).jpeg', 'test_horse (2).jpeg', 'test_horse (20).jpeg', 'test_horse (21).jpeg', 'test_horse (22).jpg', 'test_horse (23).jpg', 'test_horse (24).jpg', 'test_horse (25).jpg', 'test_horse (26).jpg', 'test_horse (27).jpg', 'test_horse (28).jpg', 'test_horse (29).jpg', 'test_horse (3).jpeg', 'test_horse (30).jpg', 'test_horse (4).jpeg', 'test_horse (5).jpeg', 'test_horse (6).jpeg', 'test_horse (7).jpeg', 'test_horse (8).jpeg', 'test_horse (9).jpeg', 'test_monkey (1).jpg', 'test_monkey (10).jpg', 'test_monkey (11).jpg', 'test_monkey (12).jpg', 'test_monkey (13).jpg', 'test_monkey (14).jpg', 'test_monkey (15).jpg', 'test_monkey (16).jpg', 'test_monkey (17).jpg', 'test_monkey (18).jpg', 'test_monkey (19).jpg', 'test_monkey (2).jpg', 'test_monkey (20).jpg', 'test_monkey (21).jpg', 'test_monkey (22).jpg', 'test_monkey (23).jpg', 'test_monkey (24).jpg', 'test_monkey (25).jpg', 'test_monkey (26).jpg', 'test_monkey (27).jpg', 'test_monkey (28).jpg', 'test_monkey (29).jpg', 'test_monkey (3).jpg', 'test_monkey (30).jpg', 'test_monkey (4).jpg', 'test_monkey (5).jpg', 'test_monkey (6).jpg', 'test_monkey (7).jpg', 'test_monkey (8).jpg', 'test_monkey (9).jpg', 'test_panda (1).jpg', 'test_panda (10).jpg', 'test_panda (11).jpg', 'test_panda (12).jpg', 'test_panda (13).jpg', 'test_panda (14).jpg', 'test_panda (15).jpg', 'test_panda (16).jpg', 'test_panda (17).jpg', 'test_panda (18).jpg', 'test_panda (19).jpg', 'test_panda (2).jpg', 'test_panda (20).jpg', 'test_panda (21).jpg', 'test_panda (22).jpg', 'test_panda (23).jpg', 'test_panda (24).jpg', 'test_panda (25).jpg', 'test_panda (26).jpg', 'test_panda (27).jpg', 'test_panda (28).jpg', 'test_panda (29).jpg', 'test_panda (3).jpg', 'test_panda (30).jpg', 'test_panda (4).jpg', 'test_panda (5).jpg', 'test_panda (6).jpg', 'test_panda (7).jpg', 'test_panda (8).jpg', 'test_panda (9).jpg', 'test_reptile (1).jpg', 'test_reptile (10).jpg', 'test_reptile (11).jpg', 'test_reptile (12).jpg', 'test_reptile (13).jpg', 'test_reptile (14).jpg', 'test_reptile (15).jpg', 'test_reptile (16).jpg', 'test_reptile (17).jpg', 'test_reptile (18).jpg', 'test_reptile (19).jpg', 'test_reptile (2).jpg', 'test_reptile (20).jpg', 'test_reptile (21).jpg', 'test_reptile (22).jpg', 'test_reptile (23).jpg', 'test_reptile (24).jpg', 'test_reptile (25).jpg', 'test_reptile (26).jpg', 'test_reptile (27).jpg', 'test_reptile (28).jpg', 'test_reptile (29).jpg', 'test_reptile (3).jpg', 'test_reptile (30).jpg', 'test_reptile (4).jpg', 'test_reptile (5).jpg', 'test_reptile (6).jpg', 'test_reptile (7).jpg', 'test_reptile (8).jpg', 'test_reptile (9).jpg', 'test_vessel (1).jpg', 'test_vessel (10).jpg', 'test_vessel (11).jpg', 'test_vessel (12).jpg', 'test_vessel (13).jpg', 'test_vessel (14).jpg', 'test_vessel (15).jpg', 'test_vessel (16).jpg', 'test_vessel (17).jpg', 'test_vessel (18).jpg', 'test_vessel (19).jpg', 'test_vessel (2).jpg', 'test_vessel (20).jpg', 'test_vessel (21).jpg', 'test_vessel (22).jpg', 'test_vessel (23).jpg', 'test_vessel (24).jpg', 'test_vessel (25).jpg', 'test_vessel (26).jpg', 'test_vessel (27).jpg', 'test_vessel (28).jpg', 'test_vessel (29).jpg', 'test_vessel (3).jpg', 'test_vessel (30).jpg', 'test_vessel (4).jpg', 'test_vessel (5).jpg', 'test_vessel (6).jpg', 'test_vessel (7).jpg', 'test_vessel (8).jpg', 'test_vessel (9).jpg']\n"
     ]
    }
   ],
   "source": [
    "test_imgname=[i[2] for i in test_data]\n",
    "print(test_imgname)"
   ]
  },
  {
   "cell_type": "code",
   "execution_count": 21,
   "id": "915dd488",
   "metadata": {},
   "outputs": [
    {
     "name": "stdout",
     "output_type": "stream",
     "text": [
      "              precision    recall  f1-score   support\n",
      "\n",
      "           0       0.25      0.43      0.32        30\n",
      "           1       0.48      0.53      0.51        30\n",
      "           2       0.42      0.33      0.37        30\n",
      "           3       0.27      0.13      0.18        30\n",
      "           4       0.49      0.80      0.61        30\n",
      "           5       0.44      0.50      0.47        30\n",
      "           6       0.36      0.30      0.33        30\n",
      "           7       0.48      0.43      0.46        30\n",
      "           8       0.55      0.37      0.44        30\n",
      "           9       0.54      0.50      0.52        30\n",
      "          10       0.40      0.57      0.47        30\n",
      "          11       0.74      0.47      0.57        30\n",
      "          12       0.40      0.27      0.32        30\n",
      "          13       0.64      0.83      0.72        30\n",
      "          14       0.50      0.27      0.35        30\n",
      "          15       0.66      0.83      0.74        30\n",
      "\n",
      "    accuracy                           0.47       480\n",
      "   macro avg       0.48      0.47      0.46       480\n",
      "weighted avg       0.48      0.47      0.46       480\n",
      "\n"
     ]
    }
   ],
   "source": [
    "from sklearn.metrics import classification_report\n",
    "\n",
    "print(classification_report(test_labels, predicted_labels))\n"
   ]
  },
  {
   "cell_type": "code",
   "execution_count": 16,
   "id": "58eb9a06",
   "metadata": {},
   "outputs": [
    {
     "name": "stdout",
     "output_type": "stream",
     "text": [
      "[[13  0  1  1  1  2  4  3  0  0  0  0  1  1  1  2]\n",
      " [ 1 16  0  1  3  3  0  0  0  0  0  0  0  0  1  5]\n",
      " [ 3  0 10  1  0  0  1  0  2  1  5  1  1  4  1  0]\n",
      " [ 4  6  0  4  1  2  0  1  2  2  1  2  1  1  1  2]\n",
      " [ 1  0  0  0 24  4  0  0  0  0  0  0  0  0  0  1]\n",
      " [ 0  3  0  0  8 15  0  1  0  0  0  0  1  0  0  2]\n",
      " [ 3  0  1  3  0  0  9  4  0  3  1  0  2  1  2  1]\n",
      " [ 9  0  0  0  3  0  3 13  0  1  0  0  1  0  0  0]\n",
      " [ 0  1  4  1  0  0  0  0 11  1 11  0  0  1  0  0]\n",
      " [ 6  0  1  0  3  0  0  0  0 15  0  1  2  1  1  0]\n",
      " [ 1  1  3  0  1  1  2  2  0  1 17  0  1  0  0  0]\n",
      " [ 2  0  4  1  0  1  0  1  3  1  2 14  0  1  0  0]\n",
      " [ 3  2  0  2  0  2  3  1  2  3  1  0  8  2  1  0]\n",
      " [ 0  0  0  1  0  1  0  0  0  0  0  1  2 25  0  0]\n",
      " [ 4  1  0  0  4  3  3  1  0  0  4  0  0  2  8  0]\n",
      " [ 1  3  0  0  1  0  0  0  0  0  0  0  0  0  0 25]]\n"
     ]
    }
   ],
   "source": [
    "from sklearn.metrics import confusion_matrix\n",
    "import numpy as np\n",
    "\n",
    "cm = confusion_matrix(test_labels, predicted_labels)\n",
    "print(cm)"
   ]
  },
  {
   "cell_type": "code",
   "execution_count": 20,
   "id": "2af05165",
   "metadata": {},
   "outputs": [],
   "source": [
    "import pandas as pd\n",
    "data = {'GIVEN TEST IMG': test_imgname, 'GIVEN TEST CLASS': test_labels, 'PREDICTED CLASS': predicted_labels}\n",
    "df = pd.DataFrame(data)\n",
    "df.to_csv(\"cnn.csv\", index=False)"
   ]
  },
  {
   "cell_type": "code",
   "execution_count": null,
   "id": "3f4942be",
   "metadata": {},
   "outputs": [],
   "source": []
  }
 ],
 "metadata": {
  "kernelspec": {
   "display_name": "Python 3 (ipykernel)",
   "language": "python",
   "name": "python3"
  },
  "language_info": {
   "codemirror_mode": {
    "name": "ipython",
    "version": 3
   },
   "file_extension": ".py",
   "mimetype": "text/x-python",
   "name": "python",
   "nbconvert_exporter": "python",
   "pygments_lexer": "ipython3",
   "version": "3.9.13"
  }
 },
 "nbformat": 4,
 "nbformat_minor": 5
}
